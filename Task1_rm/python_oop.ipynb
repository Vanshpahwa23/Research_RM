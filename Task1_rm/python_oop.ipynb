{
 "cells": [
  {
   "cell_type": "code",
   "execution_count": 97,
   "id": "353678e0-f556-47f9-88dc-e5772bf4d446",
   "metadata": {},
   "outputs": [
    {
     "name": "stdout",
     "output_type": "stream",
     "text": [
      "3\n"
     ]
    }
   ],
   "source": [
    "class Car:\n",
    "    flag=0\n",
    "    def __init__(self,brand,model):\n",
    "        self.__brand=brand\n",
    "        self.model=model\n",
    "        Car.flag+=1\n",
    "    def function_1(self):\n",
    "        return f\"{self.brand}{self.model}\" #formatted string \n",
    "    def function_brand(self):\n",
    "        return self.__brand\n",
    "    def polymorphy_explain(self):\n",
    "        return \"inside CAR\"\n",
    "\n",
    "class electric_car(Car):\n",
    "    def __init__(self,brand,model,battery):\n",
    "        super().__init__(brand,model)\n",
    "        self.battery=battery\n",
    "    def polymorphy_explain(self):\n",
    "        return \"inside electric_CAR\"    \n",
    "myfirstcar=Car(\"bentley\",\"continentalgt\")\n",
    "mysecondcar=electric_car(\"tesla\",\"modelS\",\"100kWh\")\n",
    "my_thirdcar=Car(\"audi\",\"continentalgt\")\n",
    "print(Car.flag)\n",
    "# print(myfirstcar.polymorphy_explain())\n",
    "# print(mysecondcar.polymorphy_explain())\n",
    "\n",
    "\n",
    "\n",
    "# mycar=Car('farrari','farari-lapiesta')\n",
    "# print(mycar.__brand)\n",
    "# print(mycar.function_brand())\n",
    "# print(mycar.model)\n",
    "# print(mycar.function_1())\n",
    "\n",
    "# my_electric_car=electric_car('tesla','model_s','75kWh')\n",
    "# print(my_electric_car.brand)\n",
    "# print(my_electric_car.model)\n",
    "# print(my_electric_car.function_1())\n",
    "\n"
   ]
  },
  {
   "cell_type": "markdown",
   "id": "3a8029ce-dc71-4948-aff4-0d042116ace1",
   "metadata": {},
   "source": [
    "'''basic syntax -\n",
    "class classname:\n",
    "    def __init__(self,var1,var2):   init is the constructor here whereas self stand for this\n",
    "    \n",
    "    self.var1=var1\n",
    "    self.var2=var2\n",
    "\n",
    "    def function1(self.variables):\n",
    "    .....\n",
    "\n",
    "    def function2(self.variables):\n",
    "    .....\n",
    "    .....\n",
    "\n",
    "    def functionn(variables):\n",
    "    \n",
    "extvar1=classname(var1,var2)\n",
    "extvar12=classname(var1,var2)\n",
    "'''\n",
    "\n",
    "#encapsulation-\n",
    "create a method to access a particular attribute instead of directly accesing it\n",
    "u have to declare that attrbute private by using\" __\" \n",
    "\n",
    "\n",
    "\n",
    "__attribute makes only class access the attribute \n",
    "we can not have an instance whch can access the attribute directly\n",
    "ex self.__attribute1=attribute1\n",
    "so we can call only like \n",
    "classname.attribute1 and not like \n",
    "mycar=Car('farrari','farari-lapiesta')\n",
    "print(mycar.brand)\n",
    "print(mycar.model)\n",
    "\n",
    "#polymorphism\n",
    "\n",
    "defining a method with the same name in both car and electric car\n",
    "and depending on the input data type\n",
    "the respective method will be called\n",
    "\n",
    "\n",
    "\n",
    "#\n",
    "for checking how many times anything has occured\n",
    "ex -how many times the object is created or \n",
    "how many times the user has used a partciluar class-\n",
    "use aa flag\n",
    "and define it in def_init and increase the counte by one each time\n",
    "\n"
   ]
  },
  {
   "cell_type": "code",
   "execution_count": null,
   "id": "b3a1ca7b-00db-4080-8db7-2f9becd7ca33",
   "metadata": {},
   "outputs": [],
   "source": []
  }
 ],
 "metadata": {
  "kernelspec": {
   "display_name": "Python 3 (ipykernel)",
   "language": "python",
   "name": "python3"
  },
  "language_info": {
   "codemirror_mode": {
    "name": "ipython",
    "version": 3
   },
   "file_extension": ".py",
   "mimetype": "text/x-python",
   "name": "python",
   "nbconvert_exporter": "python",
   "pygments_lexer": "ipython3",
   "version": "3.12.4"
  }
 },
 "nbformat": 4,
 "nbformat_minor": 5
}
